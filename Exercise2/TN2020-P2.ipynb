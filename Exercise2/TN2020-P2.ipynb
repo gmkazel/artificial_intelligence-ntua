{
 "cells": [
  {
   "cell_type": "markdown",
   "metadata": {},
   "source": [
    "Ιωάννης Μιχαήλ Καζελίδης - 03117885\n",
    "\n",
    "Η εργασία έγινε **τοπικά στο jupyter**."
   ]
  },
  {
   "cell_type": "markdown",
   "metadata": {
    "id": "YNwhI6744rUa"
   },
   "source": [
    "# Τεχνητή Νοημοσύνη: Εργαστηριακή Άσκηση 2\n",
    "---\n",
    "\n",
    "Ο στόχος της εργασίας είναι η κατασκευή ενός συστήματος προτάσεων (Recommendation System) για ταινίες. Οι προτάσεις αυτές θα πηγάζουν τόσο από τα χαρακτηριστικά της ταινίας όσο και από ορισμένες αξιολογήσεις του κάθε χρήστη.\n",
    "\n",
    "Στα δεδομένα της άσκησης περιλαμβάνονται ένα αρχείο με το όνομα movies_metadata.csv το όποιο περιέχει τα χαρακτηριστικά κάθε ταινίας όπως θέμα, σκηνοθέτης ηθοποιοί, λέξεις κλειδιά κ.α. από το imdb καθώς και τα αρχεία ratings.csv τα όποια περιέχουν πραγματικές αξιολογήσεις χρηστών, χωρισμένες σε train και σε test.\n"
   ]
  },
  {
   "cell_type": "markdown",
   "metadata": {
    "id": "021xhsuy4rUa"
   },
   "source": [
    "# Εκφώνηση\n",
    "Στην παρούσα εργασία σας ζητείται να μελετήσετε και να υλοποιήσετε τα παρακάτω:<br>\n",
    "\n",
    "### Μέρος 1\n",
    "Στο μέρος 1 και 2 θα ασχοληθείτε και θα εργαστείτε μόνο με το αρχείο movies_metadata.csv.\n",
    "#### Ερώτημα 1α\n",
    "\n",
    "Αρχικά θα πρέπει, αφού μελετήσετε τη δομή και τα χαρακτηριστικά του αρχείου αυτού, να κατασκευάσετε μια βάση γνώσης για την Prolog η όποια ουσιαστικά θα αποτελεί τον κόσμο με τον όποιο θα εργαστείτε στην συνέχεια. Τα κατηγορήματα που θα δημιουργηθούν θα σας βοηθήσουν και στην κατασκευή του recommender και θα είναι της μορφής:\n",
    "\n",
    "```\n",
    "director(Movie, Director).\n",
    "genre(Movie, Genre).\n",
    "```\n",
    "#### Ερώτημα 1β\n",
    "\n",
    "Αφού δημιουργήσετε τον κόσμο του προβλήματος, στη συνέχεια καλείστε να δημιουργήσετε, σε Prolog, απλούς κανόνες οι οποίοι θα βρίσκουν όλες τις ταινίες με:\n",
    "1.\tΚοινό θέμα (κάποιες λέξεις σχετικά με το genre κοινές)\n",
    "2.\tΑρκετά κοινό θέμα (κάποιες λιγότερες λέξεις σχετικά με το genre κοινές π.χ. 3)\n",
    "3.\tΣχετικά κοινό θέμα (λίγες λέξεις σχετικές με το genre κοινές π.χ. 1)\n",
    "4.\tΚοινός σκηνοθέτης\n",
    "5.\tΑκριβώς ίδια πλοκή (κάποιες λέξεις κλειδιά της πλοκής κοινές)\n",
    "6.\tΣχετικά ίδια πλοκή (κάποιες λιγότερες λέξεις κλειδιά κοινές)\n",
    "7.\tΊδιους τους βασικούς ηθοποιούς (και τους 3)\n",
    "8.\tΑρκετά ίδιους βασικούς ηθοποιούς (ορισμένους βασικούς ηθοποιούς κοινούς π.χ. 2)\n",
    "9.\tΣχετικά ίδιους ηθοποιούς (π.χ. 1 από τους 3)\n",
    "10.\tΊδια γλώσσα\n",
    "11.\tΕίναι έγχρωμες ή ασπρόμαυρες\n",
    "\n",
    "Αξίζει να σημειωθεί ότι στα παραπάνω μπορείτε να προσθέσετε περισσότερα ερωτήματα ή να αλλάξετε την κλιμακωσιμότητα των queries (πέρα από το ίδιο, αρκετά ίδιο, σχετικά ίδιο) που θα κατασκευάσετε(π.χ. μια κλίμακα από 1 στα 5 όπου αυτό είναι δυνατόν), μιας και αυτά στην συνέχεια θα χρησιμοποιηθούν για την λειτουργία του recommender. Έτσι μπορείτε να προσθέσετε queries με τα όποια μπορεί να παράγονται καλύτερες συστάσεις  (το αρχείο movie_metadata.csv περιέχει πολλές πληροφορίες ακόμα για κάθε ταινία όπως έτος κυκλοφορίας, βαθμολογία στο imdb, facebοok_likes κ.α.).\n",
    "\n",
    "Περισσότερες πληροφορίες για το dataset μπορείτε να διαβάσετε σε αυτό το [Link](https://www.kaggle.com/georgefila/movies-metadata):\n",
    "### Μέρος 2: Recommendation System\n",
    "Στο σημείο αυτό καλείστε με βάση αυτά που κάνατε στο μέρος 1 να κατασκευάσετε queries τα όποια θα σας επιστρέφουν παρόμοιες (σε χαρακτηριστικά) ταινίες. Τα ερωτήματα αυτά θα είναι κλιμακούμενα, δηλαδή θα υπάρχουν ερωτήματα που επιστρέφουν αρκετά κοινές ταινίες αλλά και που επιστρέφουν λιγότερο και λιγότερο κοινές (σε μια κλίμακα π.χ. από 1 σε 5). Για παράδειγμα:\n",
    "\n",
    "```\n",
    "find_simmilar_movies_5(\"Pirates Of The Caribbean\", M).\n",
    "M = \"Pirates Of The Caribbean: On Stranger Tides\"\n",
    "M = \"The Chronicles Of Narnia\"\n",
    "M = \"Prince Of Persia: The Sands Of Time\"\n",
    "...\n",
    "```\n",
    "Για παράδειγμα, το παραπάνω ερώτημα θα επιστρέφει αρκετά κοινές σε περιεχόμενο ταινίες με την ταινια \"Pirates Of The Caribbean\". Θα υπάρχουν και αντίστοιχα ερωτήματα που θα βρίσκουν λιγότερο όμοιες ταινίες. Ο δείκτης ομοιότητας των ταινιών είναι αυθαίρετος και μπορείτε να τον ορίσετε εσείς όπως θέλετε, αρκεί να υπάρχει κάποια λογική σύνδεση με τα δεδομένα που περιέχονται στο αρχείο movies_metadata.csv. \n",
    "\n",
    "Συνεπώς η συνάρτηση που θα κάνει τις προτάσεις (recommendation) με είσοδο μια ταινία πρέπει να επιστρέφει-εκτυπώνει μια λίστα με τις προτεινόμενες ταινίες κατά φθίνουσα σειρά ομοιότητας. \n",
    "\n",
    "\n",
    "###3ο Μέρος: Recommendation System Με βάση τις προτιμήσεις - Αξιολογήσεις του χρήστη\n",
    "\n",
    "\n",
    "Σε αυτό το σημείο θα εργαστείτε με τα αρχεία ratings τα όποια περιέχουν αξιολογήσεις (από 1 μέχρι 5) για τις παραπάνω ταινίες. Το προηγούμενο σύστημα συστάσεων προτείνει στον χρήστη ταινίες αποκλειστικά με βάση την ομοιότητά τους. Σε αυτό το σημείο θα γίνει μια αναβάθμιση του συστήματος έτσι ώστε να παράγονται καλύτερες  συστάσεις οι όποιες θα λαμβάνουν υπόψιν και τις προτιμήσεις του χρήστη, οι όποιες θα εξάγονται από τις αξιολογήσεις που έχει κάνει μέχρι στιγμής. \n",
    "\n",
    "Η εκπαίδευση του recommender θα γίνεται ως εξής:\n",
    "\n",
    "Για κάθε ταινία θα υπάρχει ένα score το όποιο αρχικά θε είναι ίσο με 0 και θα διαμορφώνεται από τις αξιολογήσεις κάθε user. Έτσι για έναν χρήστη με βάση τις αξιολογήσεις που υπάρχουν στο αρχείο train_ratings θα πρέπει:\n",
    "\n",
    "1.\tΓια κάθε ταινία που έχει βαθμολογήσει να βρίσκονται οι κοινές ταινίες ανά κλίμακα και στο μέχρι τώρα σκορ κάθε παρόμοιας ταινίας θα προστίθεται ένα βάρος το όποιο θα μπορούσε να είναι το ποσοστό ομοιότητας της ταινίας (δηλαδή ένα βάρος για κάθε κλίμακα) επί τον βαθμό που έχει βάλει ο χρήστης για την αρχική ταινία. Στη συνέχεια, ανάλογα με το σκορ που έχει σχηματιστεί για κάθε ταινία, θα επιλέγεται αν αυτή θα μπορούσε να είναι προτεινόμενη για τον χρήστη.\n",
    "\n",
    "Η λογική πίσω από την παραπάνω διαδικασία είναι ότι παρόμοιες ταινίες θα έχουν ανάλογο βαθμό. Για παράδειγμα αν ένας χρήστης έχει αξιολογήσει αρκετές  ταινίες οι όποιες είναι sci-fiction με 5/5 τότε μια ταίνια sci-fiction την όποια δεν έχει δεί λογικά θα του αρέσει και θα έπρεπε να την προτείνουμε.\n",
    "\n",
    "Μετά την εκπαίδευση του συστήματος σας καλείστε να δοκιμάσετε τον recommender που κατασκευάσατε στην πράξη. Για τον σκοπό αυτό θα φορτώσετε το αρχείο train_ratings.csv όπου περιέχονται οι αξιολογήσεις του ίδιου χρήστη για άλλες ταινίες. Το σύστημά σας πρέπει να προβλέπει αν μια ταινία θα πρέπει να προταθεί στον χρήστη. Μια ταίνια θα έπρεπε να έχει προταθεί στον  χρήστη, αν έχει βαθμό μεγαλύτερο του 3. Συνεπώς για την επίβλεψη του συστήματός σας θα πρέπει για κάθε μια από τις ταινίες του αρχείου test_ratings.csv να επιστρέφεται 1 ή 0 αν η ταινία θα έπαιρνε βαθμό μεγαλύτερο του 3 ή όχι, δηλαδή αν θα έπρεπε να την είχαμε προτείνει ή όχι.\n",
    "\n",
    "Στην συνέχεια, σε συνδιασμό με τις πραγματικές απαντήσεις του χρήστη θα αξιολογήσετε το σύστημά σας χρησιμοποιόντας τις μετρικές: precision, recall, f1 οι οποίες είναι οι πλέον γνωστές μετρικές και ευρέως χρησιμοποιούμενες τεχνικές για την επίβλεψη-μέτρηση απόδοσης ανάλογων συστημάτων.\n",
    "\n",
    "1. Precision: Δείχνει πόσο ακριβές είναι το σύστημα. Υπολογίζει πόσα από τα στιγμιότυπα τα όποια προβλέψαμε ότι ανήκουν σε μια κλάση όντως ανήκουν σε αυτή. Η μετρική αυτή μας δίνει μια εικόνα σχετικά με τον αριθμό των ταινίων που προβλέψαμε ως προτεινόμενες ενώ δεν θα έπρεπε.\n",
    "\n",
    "2. Recall: Υπολογίζει πόσα από τα στιγμιότυπα που ανήκουν σε μια κλάση (π.χ. προτεινόμενες ταινίες) προβλέφθηκαν σωστά.\n",
    "\n",
    "3. F1: Είναι ένας μέσος μεταξύ των παραπάνω δυο μετρικών, έτσι ώστε να διατηρείται μια ισορροπία μεταξύ τους. Υπολογίζεται από την παρακάτω σχέση:\n",
    "\n",
    "$$F_1=2\\frac{Precision\\times{Recall}}{Precision+Recall}$$\n",
    "\n",
    "Οι παραπάνω συναρτήσεις παρέχονται από την βιβλιοθήκη scikit-learn.\n",
    "\n",
    "Τέλος για την καλύτερη επίβλεψη του συστήματος σας μπορείτε να εκπαιδεύσετε  τον recommender σας με ένα υποσύνολο ταινίων (π.χ. 10, 20, 50, ...) για να μελετήσετε κατά πόσο σας βοηθούν οι επιπλέον αξιολογήσεις κάθε φορά (δηλαδή κατά πόσο βελτιώνονται οι παραπάνω μετρικές στο test set). Έτσι π.χ. μπορείτε να εντοπίσετε περιπτώσεις όπως για παράδειγμα ότι με έναν recommender μπορεί να μην επιτυγχάνετε πολύ υψηλό σκορ όσο με άλλους, αλλά το βέλτιστο σκόρ σας επιτυγχάνεται πολύ γρηγόρα π.χ. με μόνο 10 ταινίες αντί 100.\n",
    "\n"
   ]
  },
  {
   "cell_type": "markdown",
   "metadata": {
    "id": "9HWH0oMY4rUb"
   },
   "source": [
    "---\n",
    "## Κατασκευή Περιβάλλοντος Εργασίας\n",
    "---\n",
    "### Διάβασμα Αρχείων στο Colab (Μόνο για το Colab)\n",
    "Αν η υλοποίηση γίνει στο google colab τότε μπορεί να χρησιμοποιηθεί το google drive ως file system. Για να γίνει Mount το google drive τρέχουμε τον παρακάτω κώδικα και κλικάρουμε στο link που θα μας εμφανιστεί. \n",
    "\n",
    "```\n",
    "from google.colab import drive\n",
    "drive.mount('/gdrive')\n",
    "import os\n",
    "os.listdir('/gdrive/My Drive')\n",
    "```\n",
    "Έπειτα στην σελίδα που άνοιξε επιλέγουμε το mail μας και στο επόμενο παράθυρο που θα μας ανοίξει πατάμε Να επιτρέπεται. Στην συνέχεια αντιγράφουμε τον κωδικό που θα μας βγάλει και τον κάνουμε paste στο Input που έχει ανοίξει στο colab. Έτσι πλέον αν έχουμε ανεβάσει ένα αρχείο στο google drive μπορούμε να το βρούμε στην θέση:\n",
    "\n",
    "```\n",
    "movies_filename = '/gdrive/My Drive/' + movies_metadata.csv\n",
    "```\n",
    "Μπορούμε πλέον κανονικά να δουλέψουμε φτιάχνοντας φακέλους ή αρχεία και γενικότερα κάνοντας οτιδήποτε θα κάναμε αν ήμασταν τοπικά. \n",
    "\n",
    "### Prolog μέσω Python\n",
    "\n",
    "Το πακέτο που θα χρησιμοποιηθεί για την επικοινωνία Python και Prolog είναι το pyswip (https://pypi.org/project/pyswip/). Για να δουλέψει το Pyswip  χρειάζεται να υπάρχει το Swi-Prolog το όποιο αν δουλεύουμε τοπικά πρέπει να το εγκαταστήσουμε, ακολουθώντας αντίστοιχες οδηγίες στην σελίδα του εργαλείου. Για να γίνει του Swi-Prolog η εγκατάσταση στο Google Colab πρέπει να τρέξουμε τον παρακάτω κώδικα:\n",
    "\n",
    "```\n",
    "!sudo apt-get install software-properties-common\n",
    "!sudo apt-add-repository ppa:swi-prolog/stable\n",
    "!sudo apt-get update\n",
    "!sudo apt-get install swi-prolog\n",
    "```\n",
    "Σε κάποιο σημείο της εκτέλεσης εμφανίζεται ένα μήνυμα ότι πρέπει να πατήσουμε enter σε ένα input για να συνεχίσει η διαδικασία. Έπειτα από αυτό η εκτέλεση θα συνεχίσει χωρίς κάποιο πρόβλημα.\n",
    "\n",
    "Τέλος πρέπει να εγκαταστήσουμε το pyswip (**όπου και να δουλεύουμε**) όπως παρακάτω:\n",
    "\n",
    "```\n",
    "!pip isntall pyswip\n",
    "```\n"
   ]
  },
  {
   "cell_type": "markdown",
   "metadata": {
    "id": "doHQmp994rUb"
   },
   "source": [
    "---\n",
    "#Κώδικας για κατασκευή περιβάλλοντος εργασίας\n",
    "\n",
    "##Μόνο για Google Colab\n",
    "\n",
    "Κώδικας για να γίνει Mount to Google Drive"
   ]
  },
  {
   "cell_type": "markdown",
   "metadata": {
    "id": "4QOs_gnx4rUb"
   },
   "source": [
    "from google.colab import drive\n",
    "drive.mount('/gdrive')\n",
    "import os\n",
    "os.listdir('/gdrive/My Drive')\n",
    "path='/gdrive/My Drive/'"
   ]
  },
  {
   "cell_type": "markdown",
   "metadata": {
    "id": "xZdXjQr64rUc"
   },
   "source": [
    "#install swi-prolog\n",
    "!sudo apt-get install software-properties-common\n",
    "!sudo apt-add-repository ppa:swi-prolog/stable\n",
    "!sudo apt-get update\n",
    "!sudo apt-get install swi-prolog\n",
    "#install pyswip\n",
    "!pip install pyswip"
   ]
  },
  {
   "cell_type": "markdown",
   "metadata": {
    "id": "GxLahZ-i4rUc"
   },
   "source": [
    "# **Μέρος 1: Μελέτη των Metadata, Δημιουργία κόσμου και των βασικών queries.**\n"
   ]
  },
  {
   "cell_type": "code",
   "execution_count": 1,
   "metadata": {
    "id": "gA3CRz5c4rUc"
   },
   "outputs": [],
   "source": [
    "import pandas as pd\n",
    "from pyswip import Prolog\n",
    "import os"
   ]
  },
  {
   "cell_type": "code",
   "execution_count": 2,
   "metadata": {
    "id": "jnVDBIDw4rUd"
   },
   "outputs": [
    {
     "data": {
      "text/html": [
       "<div>\n",
       "<style scoped>\n",
       "    .dataframe tbody tr th:only-of-type {\n",
       "        vertical-align: middle;\n",
       "    }\n",
       "\n",
       "    .dataframe tbody tr th {\n",
       "        vertical-align: top;\n",
       "    }\n",
       "\n",
       "    .dataframe thead th {\n",
       "        text-align: right;\n",
       "    }\n",
       "</style>\n",
       "<table border=\"1\" class=\"dataframe\">\n",
       "  <thead>\n",
       "    <tr style=\"text-align: right;\">\n",
       "      <th></th>\n",
       "      <th>Unnamed: 0</th>\n",
       "      <th>budget</th>\n",
       "      <th>genres</th>\n",
       "      <th>homepage</th>\n",
       "      <th>id</th>\n",
       "      <th>plot_keywords</th>\n",
       "      <th>language</th>\n",
       "      <th>original_title</th>\n",
       "      <th>overview</th>\n",
       "      <th>popularity</th>\n",
       "      <th>...</th>\n",
       "      <th>tagline</th>\n",
       "      <th>movie_title</th>\n",
       "      <th>vote_average</th>\n",
       "      <th>num_voted_users</th>\n",
       "      <th>title_year</th>\n",
       "      <th>country</th>\n",
       "      <th>director_name</th>\n",
       "      <th>actor_1_name</th>\n",
       "      <th>actor_2_name</th>\n",
       "      <th>actor_3_name</th>\n",
       "    </tr>\n",
       "  </thead>\n",
       "  <tbody>\n",
       "    <tr>\n",
       "      <th>0</th>\n",
       "      <td>0</td>\n",
       "      <td>237000000</td>\n",
       "      <td>Action|Adventure|Fantasy|Science Fiction</td>\n",
       "      <td>http://www.avatarmovie.com/</td>\n",
       "      <td>19995</td>\n",
       "      <td>culture clash|future|space war|space colony|so...</td>\n",
       "      <td>English</td>\n",
       "      <td>Avatar</td>\n",
       "      <td>In the 22nd century, a paraplegic Marine is di...</td>\n",
       "      <td>150.437577</td>\n",
       "      <td>...</td>\n",
       "      <td>Enter the World of Pandora.</td>\n",
       "      <td>Avatar</td>\n",
       "      <td>7.2</td>\n",
       "      <td>11800</td>\n",
       "      <td>2009</td>\n",
       "      <td>United States of America</td>\n",
       "      <td>James Cameron</td>\n",
       "      <td>Zoe Saldana</td>\n",
       "      <td>Sigourney Weaver</td>\n",
       "      <td>Stephen Lang</td>\n",
       "    </tr>\n",
       "    <tr>\n",
       "      <th>1</th>\n",
       "      <td>1</td>\n",
       "      <td>300000000</td>\n",
       "      <td>Adventure|Fantasy|Action</td>\n",
       "      <td>http://disney.go.com/disneypictures/pirates/</td>\n",
       "      <td>285</td>\n",
       "      <td>ocean|drug abuse|exotic island|east india trad...</td>\n",
       "      <td>English</td>\n",
       "      <td>Pirates of the Caribbean: At World's End</td>\n",
       "      <td>Captain Barbossa, long believed to be dead, ha...</td>\n",
       "      <td>139.082615</td>\n",
       "      <td>...</td>\n",
       "      <td>At the end of the world, the adventure begins.</td>\n",
       "      <td>Pirates of the Caribbean: At World's End</td>\n",
       "      <td>6.9</td>\n",
       "      <td>4500</td>\n",
       "      <td>2007</td>\n",
       "      <td>United States of America</td>\n",
       "      <td>Gore Verbinski</td>\n",
       "      <td>Orlando Bloom</td>\n",
       "      <td>Keira Knightley</td>\n",
       "      <td>Stellan Skarsgård</td>\n",
       "    </tr>\n",
       "    <tr>\n",
       "      <th>2</th>\n",
       "      <td>2</td>\n",
       "      <td>245000000</td>\n",
       "      <td>Action|Adventure|Crime</td>\n",
       "      <td>http://www.sonypictures.com/movies/spectre/</td>\n",
       "      <td>206647</td>\n",
       "      <td>spy|based on novel|secret agent|sequel|mi6|bri...</td>\n",
       "      <td>Français</td>\n",
       "      <td>Spectre</td>\n",
       "      <td>A cryptic message from Bond’s past sends him o...</td>\n",
       "      <td>107.376788</td>\n",
       "      <td>...</td>\n",
       "      <td>A Plan No One Escapes</td>\n",
       "      <td>Spectre</td>\n",
       "      <td>6.3</td>\n",
       "      <td>4466</td>\n",
       "      <td>2015</td>\n",
       "      <td>United Kingdom</td>\n",
       "      <td>Sam Mendes</td>\n",
       "      <td>Christoph Waltz</td>\n",
       "      <td>Léa Seydoux</td>\n",
       "      <td>Ralph Fiennes</td>\n",
       "    </tr>\n",
       "    <tr>\n",
       "      <th>3</th>\n",
       "      <td>3</td>\n",
       "      <td>250000000</td>\n",
       "      <td>Action|Crime|Drama|Thriller</td>\n",
       "      <td>http://www.thedarkknightrises.com/</td>\n",
       "      <td>49026</td>\n",
       "      <td>dc comics|crime fighter|terrorist|secret ident...</td>\n",
       "      <td>English</td>\n",
       "      <td>The Dark Knight Rises</td>\n",
       "      <td>Following the death of District Attorney Harve...</td>\n",
       "      <td>112.312950</td>\n",
       "      <td>...</td>\n",
       "      <td>The Legend Ends</td>\n",
       "      <td>The Dark Knight Rises</td>\n",
       "      <td>7.6</td>\n",
       "      <td>9106</td>\n",
       "      <td>2012</td>\n",
       "      <td>United States of America</td>\n",
       "      <td>Christopher Nolan</td>\n",
       "      <td>Michael Caine</td>\n",
       "      <td>Gary Oldman</td>\n",
       "      <td>Anne Hathaway</td>\n",
       "    </tr>\n",
       "    <tr>\n",
       "      <th>4</th>\n",
       "      <td>4</td>\n",
       "      <td>260000000</td>\n",
       "      <td>Action|Adventure|Science Fiction</td>\n",
       "      <td>http://movies.disney.com/john-carter</td>\n",
       "      <td>49529</td>\n",
       "      <td>based on novel|mars|medallion|space travel|pri...</td>\n",
       "      <td>English</td>\n",
       "      <td>John Carter</td>\n",
       "      <td>John Carter is a war-weary, former military ca...</td>\n",
       "      <td>43.926995</td>\n",
       "      <td>...</td>\n",
       "      <td>Lost in our world, found in another.</td>\n",
       "      <td>John Carter</td>\n",
       "      <td>6.1</td>\n",
       "      <td>2124</td>\n",
       "      <td>2012</td>\n",
       "      <td>United States of America</td>\n",
       "      <td>Andrew Stanton</td>\n",
       "      <td>Lynn Collins</td>\n",
       "      <td>Samantha Morton</td>\n",
       "      <td>Willem Dafoe</td>\n",
       "    </tr>\n",
       "  </tbody>\n",
       "</table>\n",
       "<p>5 rows × 27 columns</p>\n",
       "</div>"
      ],
      "text/plain": [
       "   Unnamed: 0     budget                                    genres  \\\n",
       "0           0  237000000  Action|Adventure|Fantasy|Science Fiction   \n",
       "1           1  300000000                  Adventure|Fantasy|Action   \n",
       "2           2  245000000                    Action|Adventure|Crime   \n",
       "3           3  250000000               Action|Crime|Drama|Thriller   \n",
       "4           4  260000000          Action|Adventure|Science Fiction   \n",
       "\n",
       "                                       homepage      id  \\\n",
       "0                   http://www.avatarmovie.com/   19995   \n",
       "1  http://disney.go.com/disneypictures/pirates/     285   \n",
       "2   http://www.sonypictures.com/movies/spectre/  206647   \n",
       "3            http://www.thedarkknightrises.com/   49026   \n",
       "4          http://movies.disney.com/john-carter   49529   \n",
       "\n",
       "                                       plot_keywords  language  \\\n",
       "0  culture clash|future|space war|space colony|so...   English   \n",
       "1  ocean|drug abuse|exotic island|east india trad...   English   \n",
       "2  spy|based on novel|secret agent|sequel|mi6|bri...  Français   \n",
       "3  dc comics|crime fighter|terrorist|secret ident...   English   \n",
       "4  based on novel|mars|medallion|space travel|pri...   English   \n",
       "\n",
       "                             original_title  \\\n",
       "0                                    Avatar   \n",
       "1  Pirates of the Caribbean: At World's End   \n",
       "2                                   Spectre   \n",
       "3                     The Dark Knight Rises   \n",
       "4                               John Carter   \n",
       "\n",
       "                                            overview  popularity  ...  \\\n",
       "0  In the 22nd century, a paraplegic Marine is di...  150.437577  ...   \n",
       "1  Captain Barbossa, long believed to be dead, ha...  139.082615  ...   \n",
       "2  A cryptic message from Bond’s past sends him o...  107.376788  ...   \n",
       "3  Following the death of District Attorney Harve...  112.312950  ...   \n",
       "4  John Carter is a war-weary, former military ca...   43.926995  ...   \n",
       "\n",
       "                                          tagline  \\\n",
       "0                     Enter the World of Pandora.   \n",
       "1  At the end of the world, the adventure begins.   \n",
       "2                           A Plan No One Escapes   \n",
       "3                                 The Legend Ends   \n",
       "4            Lost in our world, found in another.   \n",
       "\n",
       "                                movie_title vote_average  num_voted_users  \\\n",
       "0                                    Avatar          7.2            11800   \n",
       "1  Pirates of the Caribbean: At World's End          6.9             4500   \n",
       "2                                   Spectre          6.3             4466   \n",
       "3                     The Dark Knight Rises          7.6             9106   \n",
       "4                               John Carter          6.1             2124   \n",
       "\n",
       "  title_year                   country      director_name     actor_1_name  \\\n",
       "0       2009  United States of America      James Cameron      Zoe Saldana   \n",
       "1       2007  United States of America     Gore Verbinski    Orlando Bloom   \n",
       "2       2015            United Kingdom         Sam Mendes  Christoph Waltz   \n",
       "3       2012  United States of America  Christopher Nolan    Michael Caine   \n",
       "4       2012  United States of America     Andrew Stanton     Lynn Collins   \n",
       "\n",
       "       actor_2_name       actor_3_name  \n",
       "0  Sigourney Weaver       Stephen Lang  \n",
       "1   Keira Knightley  Stellan Skarsgård  \n",
       "2       Léa Seydoux      Ralph Fiennes  \n",
       "3       Gary Oldman      Anne Hathaway  \n",
       "4   Samantha Morton       Willem Dafoe  \n",
       "\n",
       "[5 rows x 27 columns]"
      ]
     },
     "execution_count": 2,
     "metadata": {},
     "output_type": "execute_result"
    }
   ],
   "source": [
    "# Η βιβλιοθήκη pandas είναι χρήσιμη για την εργασία με τέτοια δεδομένα\n",
    "import pandas as pd \n",
    "# Διάβασμα του αρχείου 'movie_metadata.csv' \n",
    "data = pd.read_csv(os.getcwd() + \"/movies_metadata.csv\") \n",
    "#Στο csv υπαρχούν κελία με nan τιμές\n",
    "#Στις θέσεις αυτές βάζουμε 'UNK' πράγμα που  κάνουμε με την παρακάτω συνάρτηση\n",
    "data.fillna(\"UNK\", inplace=True)\n",
    "# Preview the first 5 lines of the loaded data \n",
    "data.head()"
   ]
  },
  {
   "cell_type": "code",
   "execution_count": 3,
   "metadata": {
    "id": "sPAqSe0n4rUd"
   },
   "outputs": [],
   "source": [
    "def clean_text(text):\n",
    "  text = text.replace(u'\\xa0', u'')\n",
    "  text = text.replace(u\"'\", u'')\n",
    "  return text"
   ]
  },
  {
   "cell_type": "code",
   "execution_count": 4,
   "metadata": {
    "id": "RcOo0hyJ4rUd"
   },
   "outputs": [],
   "source": [
    "#create World\n",
    "#Ορίζουμε τον κόσμο μας\n",
    "prolog = Prolog()\n",
    "\n",
    "#Για κάθε row του πίνακα φτιάχνουμε τα κατηγορήματα που θέλουμε να αποθηκέυσουμε\n",
    "#αρχικά σε μια λίστα με το όνομα literals\n",
    "literals = []\n",
    "movie_score = {}\n",
    "for row in data.itertuples(index=True, name='Pandas'):\n",
    "  movie_title = clean_text(getattr(row, 'movie_title'))\n",
    "\n",
    "  for genre in getattr(row, 'genres').split(\"|\"):\n",
    "    literals.append(\"genre('\"+ movie_title +\"','\"+ genre +\"')\")\n",
    "    \n",
    "  literals.append(\"director('\"+ movie_title +\"','\"+ clean_text(getattr(row, 'director_name')) +\"')\")\n",
    "\n",
    "  for keyword in clean_text(getattr(row, 'plot_keywords')).split(\"|\"):\n",
    "    literals.append(\"keywords('\"+ movie_title +\"','\"+ clean_text(keyword) +\"')\")\n",
    "  \n",
    "  literals.append(\"language('\"+ movie_title +\"','\"+ getattr(row, 'language') +\"')\")\n",
    "\n",
    "  literals.append(\"duration('\"+ movie_title +\"','\"+ str(getattr(row, 'duration')) +\"')\")\n",
    "  \n",
    "  literals.append(\"vote('\"+ movie_title +\"',\"+ str(getattr(row, 'vote_average')) +\")\")\n",
    "\n",
    "  literals.append(\"title_year('\"+ movie_title +\"','\"+ str(getattr(row, 'title_year')) +\"')\")\n",
    "\n",
    "  literals.append(\"budget('\"+ movie_title +\"','\"+ str(getattr(row, 'budget')) +\"')\")\n",
    "\n",
    "  literals.append(\"title('\"+ movie_title +\"','\"+ clean_text(getattr(row, 'movie_title')) +\"')\")\n",
    "\n",
    "  literals.append(\"gross('\"+ movie_title +\"','\"+ str(getattr(row, 'gross')) +\"')\")\n",
    "\n",
    "  literals.append(\"popular('\"+ movie_title +\"',\"+ str(getattr(row, 'popularity')) +\")\")\n",
    "\n",
    "  for i in range(1,4):\n",
    "    literals.append(\"actor('\"+ movie_title +\"','\"+ clean_text(getattr(row, 'actor_{}_name'.format(i))) +\"')\")\n",
    "\n",
    "#Η Prolog θέλει τα κατηγορήματά της με την σειρά \n",
    "literals.sort()\n",
    "for literal in literals:\n",
    "  prolog.assertz(literal)\n",
    "\n",
    "#Επίσης μπορούμε να κάνουμε consult ένα έτοιμο αρχείο στον κόσμο όπως παρακάτω\n",
    "# prolog.consult(path +\"db.pl\")"
   ]
  },
  {
   "cell_type": "code",
   "execution_count": 5,
   "metadata": {
    "id": "61SbKPrg4rUd"
   },
   "outputs": [],
   "source": [
    "prolog.assertz('(common_language(X,Y) :- language(X,L), language(Y,L), X \\= Y)')\n",
    "prolog.assertz('(common_director(X,Y) :- director(X,L), director(Y,L), X \\= Y)')\n",
    "prolog.assertz('''(find_common_genre_1(X, Y):-\n",
    "                                        genre(X, G1),\n",
    "                                        genre(Y, G1),\n",
    "                                        X \\= Y )''')\n",
    "prolog.assertz('''(find_common_genre_3(X, Y):-\n",
    "                                       genre(X, G1), genre(X, G2), genre(X, G3),\n",
    "                                        genre(Y, G1), genre(Y, G2), genre(Y, G3),\n",
    "                                        G1 \\= G2, G2 \\= G3, G1 \\= G3, X \\= Y)''')\n",
    "prolog.assertz('''(find_common_genre_5(X, Y):-\n",
    "                                       genre(X, G1), genre(X, G2), genre(X, G3), genre(X, G4), genre(X, G5),\n",
    "                                        genre(Y, G1), genre(Y, G2), genre(Y, G3), genre(Y, G4), genre(Y, G5),\n",
    "                                        G1 \\= G2, G1 \\= G3, G1 \\= G4, G1 \\= G5, G2 \\= G3, G2 \\= G4, G2 \\= G5, G3 \\= G4, G3 \\= G5, G4 \\= G5, X \\= Y)''')\n",
    "prolog.assertz('''(find_common_plot_1(X, Y):-\n",
    "                                        keywords(X, K1),\n",
    "                                        keywords(Y, K1),\n",
    "                                        X \\= Y )''')\n",
    "prolog.assertz('''(find_common_plot_3(X, Y):-\n",
    "                                       keywords(X, K1), keywords(X, K2), keywords(X, K3),\n",
    "                                        keywords(Y, K1), keywords(Y, K2), keywords(Y, K3),\n",
    "                                        K1 \\= K2, K2 \\= K3, K1 \\= K3, X \\= Y)''')\n",
    "prolog.assertz('''(find_common_actors_3(X, Y):-\n",
    "                                       actor(X, A1), actor(X, A2), actor(X, A3),\n",
    "                                        actor(Y, A1), actor(Y, A2), actor(Y, A3),\n",
    "                                        A1 \\= A2, A2 \\= A3, A1 \\= A3, X \\= Y)''')\n",
    "prolog.assertz('''(find_common_actors_2(X, Y):-\n",
    "                                       actor(X, A1), actor(X, A2),\n",
    "                                        actor(Y, A1), actor(Y, A2),\n",
    "                                        A1 \\= A2, X \\= Y)''')\n",
    "prolog.assertz('''(find_common_actors_1(X, Y):-\n",
    "                                       actor(X, A1), actor(Y, A1), X \\= Y)''')\n",
    "prolog.assertz('''(find_black_and_white(X):-\n",
    "                                       keywords(X, 'black and white') )''')\n",
    "prolog.assertz('''(find_better_score(X,Y):-\n",
    "                                       vote(X, M), vote(Y, Z), Z >= (M-2), X \\= Y )''')\n",
    "prolog.assertz('''(find_more_popular(X,Y):-\n",
    "                                       popular(X, M), popular(Y, Z), Z >= M, X \\= Y )''')\n"
   ]
  },
  {
   "cell_type": "code",
   "execution_count": 6,
   "metadata": {},
   "outputs": [
    {
     "name": "stdout",
     "output_type": "stream",
     "text": [
      "{'The Martian', 'Interstellar', 'Batman v Superman: Dawn of Justice', 'Jurassic World', 'Mad Max: Fury Road', 'Frozen', 'Deadpool', 'The Dark Knight', 'Terminator Genisys', 'Captain America: Civil War', 'The Hunger Games: Mockingjay - Part 1', 'Guardians of the Galaxy', 'Whiplash', 'Big Hero 6', 'Dawn of the Planet of the Apes', 'Minions', 'Inception', 'Pirates of the Caribbean: The Curse of the Black Pearl'}\n",
      "18\n"
     ]
    }
   ],
   "source": [
    "q = prolog.query(\"find_more_popular('Avatar',Y)\")\n",
    "s = set()\n",
    "for soln in q:\n",
    "  m = soln['Y'] \n",
    "  if m not in s:\n",
    "    s.add(soln['Y'])\n",
    "print(s)\n",
    "print(len(s))"
   ]
  },
  {
   "cell_type": "markdown",
   "metadata": {
    "id": "ibe9jBk24rUd"
   },
   "source": [
    "# **2ο Μέρος: Recommendation System με βάση μόνο τα χαρακτηριστικά των ταινιών.**\n",
    "\n",
    "Στο σημείο αυτό με βάση τους κανόνες που κατασκευάστηκαν στο Μέρος 1 θα κατασκευαστούν κατηγορήματα για την ομοιότητα ταινιών. Παρακάτω δίνεται ένα μικρό παράδειγμα ενός κανόνα και πώς αυτός θα μπορούσε να γραφτεί μέσω του Pyswip. Επίσης όπως αναφέρεται και σε σχόλιο παραπάνω θα μπορεί να γραφτεί και μια βάση δεδομένων με τους κανόνες και να γίνει απευθείας consult.\n",
    "\n",
    "Στο παρακάτω παράδειγμα το 5 και το 4 εκφράζουν την ομοιότητα των ταινιών π.χ. οι ταινίες που παράγονται μέσω του find_similar_5 είναι πιο όμοιες από αυτές που παράγονται μέσω του find_similar_4. \n"
   ]
  },
  {
   "cell_type": "code",
   "execution_count": 7,
   "metadata": {
    "id": "kvdh4wig4rUd"
   },
   "outputs": [],
   "source": [
    "prolog.assertz('''(find_sim_1(X, Y):-\n",
    "                                      find_better_score(X,Y))''')\n",
    "prolog.assertz('''(find_sim_2(X, Y):-\n",
    "                                      find_better_score(X,Y),\n",
    "                                      find_common_genre_1(X,Y),\n",
    "                                      find_common_plot_1(X,Y))''')\n",
    "prolog.assertz('''(find_sim_3(X, Y):-\n",
    "                                      find_better_score(X,Y),\n",
    "                                      find_common_genre_3(X,Y),\n",
    "                                      find_common_plot_1(X,Y))''')\n",
    "prolog.assertz('''(find_sim_4(X, Y):-\n",
    "                                      (find_black_and_white(X) -> find_black_and_white(Y) ; \n",
    "                                      find_better_score(X,Y),\n",
    "                                      find_common_genre_3(X,Y),\n",
    "                                      find_common_plot_3(X,Y)))''')\n",
    "prolog.assertz('''(find_sim_5(X, Y):-\n",
    "                                      (find_black_and_white(X) -> find_common_genre_1(X,Y), find_common_plot_1(X,Y), find_black_and_white(Y) ; \n",
    "                                      find_better_score(X,Y),\n",
    "                                      find_common_genre_3(X,Y),\n",
    "                                      common_director(X,Y)))''')"
   ]
  },
  {
   "cell_type": "code",
   "execution_count": 8,
   "metadata": {
    "id": "bh_jfhPC4rUd"
   },
   "outputs": [],
   "source": [
    "def simple_recommender(movie, i):\n",
    "    s = set()\n",
    "    q = prolog.query(\"find_sim_{}('\".format(i+1) + movie +\"',M)\")\n",
    "    for soln in q:\n",
    "        m = soln['M'] \n",
    "        if m not in s:\n",
    "            s.add(soln['M'])\n",
    "    q.close()\n",
    "    answers = s\n",
    "    return answers"
   ]
  },
  {
   "cell_type": "code",
   "execution_count": 9,
   "metadata": {
    "id": "Ug_L_Qx-4rUd"
   },
   "outputs": [
    {
     "name": "stdout",
     "output_type": "stream",
     "text": [
      "3927\n",
      "227\n",
      "39\n",
      "21\n",
      "2\n"
     ]
    }
   ],
   "source": [
    "for i in range(5):\n",
    "    print(len(list(simple_recommender('The Avengers', i))))\n",
    "#list(simple_recommender('Avatar'))"
   ]
  },
  {
   "cell_type": "markdown",
   "metadata": {
    "id": "YjpTwOuO4rUd"
   },
   "source": [
    "# **3ο Μέρος: Recommendation System Με βάση τις προτιμήσεις-Αξιολογήσεις του χρήστη-Εκπαίδευση και Πρόβλεψη**\n",
    "\n",
    "\n",
    "Αρχικά μελετάμε τις αξιολογήσεις κάθε χρήστη για να καταλάβουμε την δομή και τις πληροφορίες κάθε αρχείου.\n",
    "\n",
    "\n"
   ]
  },
  {
   "cell_type": "code",
   "execution_count": 10,
   "metadata": {
    "id": "lL9P3GOd4rUe"
   },
   "outputs": [],
   "source": [
    "from tqdm.notebook import tqdm\n",
    "from sklearn.metrics import precision_score, recall_score, f1_score\n",
    "\n",
    "\n",
    "rating_weights = {0: -1, 1: -0.5, 2:0, 3:0, 4:0.5, 5:1}\n",
    "score_weights = {i:i + 1 for i in range(5)} # ανάλογα με τα επίπεδα ομοιότητας που έχουν οριστεί στην simple_recommender\n",
    "\n",
    "def train_recommender(ratings, rating_weights, score_weights, start=0, end = -1, movie_score = {}):\n",
    "    \"\"\"\n",
    "    Στην συνάρτηση αυτή μπορούμε να ορίζουμε ποιο υποσύνολο των αξιολογήσεων θα χρησιμοποιήσουμε για το train,\n",
    "    ενώ παράλληλα μπορούμε να αρχικοποιήσουμε και το movie_score το οποίο αποθηκεύονται τα score κάθε ταινίας.\n",
    "    Έτσι αν έχουμε κάνει train τον recommender μας για τις πρώτες 10 ταινίες, μπορούμε να συνεχίσουμε για τις \n",
    "    υπόλοιπες χωρίς κάθε φορά να ξανά-διαμορφώνουμε το score για αυτές. Αυτό θα σας βοηθήσει στην εκτέλεση και χρονικά όταν ελέγχετε την \n",
    "    απόδοση σε υποσύνολα των ratings π.χ. πρώτες 10 ταινίες έπειτα τις επόμενες 20 κ.ο.κ.\n",
    "    \"\"\"\n",
    "    if end == -1:\n",
    "        end = len(ratings)\n",
    "\n",
    "    ratings = ratings.iloc[range(start, end)]\n",
    "    for row in tqdm(ratings.itertuples(index=True, name='Pandas')):\n",
    "        movie = clean_text(getattr(row, 'movie_title'))\n",
    "        rating = getattr(row, 'rating')\n",
    "    \n",
    "        for i in range(5):\n",
    "            similar_movies = simple_recommender(movie,i)\n",
    "\n",
    "            for similar_movie in similar_movies:\n",
    "                if similar_movie not in movie_score:\n",
    "                    movie_score[similar_movie] = rating_weights[int(rating)] * score_weights[i]\n",
    "                else:\n",
    "                    movie_score[similar_movie] += rating_weights[int(rating)] * score_weights[i] #το weight θα το ορίσετε ανα επίπεδο ομοιότητας οι πολύ όμοιες ταινίες θα έχουν μεγαλύτερο βάρος\n",
    "    return movie_score\n",
    "\n",
    "\n",
    "#αυτό είναι ένα παράδειγμα για το πως θα μπορούσε να υλοποιήθει η predict\n",
    "#έχουμε ορίσει ότι μια ταινία θα έπρεπε να είναι προτεινόμενη αν είχε σκορ > 0\n",
    "def predict_example(ratings, movie_score):\n",
    "    real, pred = [], []\n",
    "    for i, row in enumerate(ratings.itertuples(index=True, name='Pandas')):\n",
    "        movie = clean_text(getattr(row, 'movie_title'))\n",
    "        rating = getattr(row, 'rating')\n",
    "\n",
    "        if movie in movie_score: #αν έχουμε σχηματίσει βαθμολογία για την ταινία αυτή\n",
    "            pred.append(int(movie_score[movie] > 0)) #heuristic για το αν μια ταινία είναι προτεινόμενη\n",
    "            real.append(int(rating > 3))# έτσι ορίζουμε ότι μια ταινία θα έπρεπε να είναι προτεινόμενη\n",
    "            #η συνθήκη αυτή δεν μπορεί να αλλάξει\n",
    "        else: #δεν μπορούμε να προτείνουμε κάτι για το όποιο δεν έχουμε σχηματίσει εικόνα\n",
    "            pred.append(0)\n",
    "            real.append(int(rating > 3))\n",
    "\n",
    "    return real, pred\n",
    "\n",
    "\n",
    "def get_metrics(real, pred):\n",
    "    metrics = {}\n",
    "    metrics[\"precision\"] = precision_score(real, pred)\n",
    "    metrics[\"recall\"] = recall_score(real, pred)\n",
    "    metrics[\"f1\"] = f1_score(real, pred)\n",
    "    return metrics"
   ]
  },
  {
   "cell_type": "code",
   "execution_count": 11,
   "metadata": {
    "id": "tnIDJLJX4rUe"
   },
   "outputs": [],
   "source": [
    "train_ratings = pd.read_csv(\"train_ratings.csv\")\n",
    "test_ratings = pd.read_csv(\"test_ratings.csv\")"
   ]
  },
  {
   "cell_type": "code",
   "execution_count": 12,
   "metadata": {
    "id": "IurBJXyA4rUe"
   },
   "outputs": [
    {
     "data": {
      "application/vnd.jupyter.widget-view+json": {
       "model_id": "a035e3d9d81c429f9ad1b9127e9d8bb2",
       "version_major": 2,
       "version_minor": 0
      },
      "text/plain": [
       "HBox(children=(HTML(value=''), FloatProgress(value=1.0, bar_style='info', layout=Layout(width='20px'), max=1.0…"
      ]
     },
     "metadata": {},
     "output_type": "display_data"
    },
    {
     "name": "stdout",
     "output_type": "stream",
     "text": [
      "\n",
      "{'precision': 0.5142857142857142, 'recall': 1.0, 'f1': 0.6792452830188679}\n"
     ]
    }
   ],
   "source": [
    "movie_score = train_recommender(train_ratings, rating_weights, score_weights, 0, 10)\n",
    "real, pred = predict_example(test_ratings, movie_score)\n",
    "print (get_metrics(real, pred))"
   ]
  },
  {
   "cell_type": "code",
   "execution_count": 13,
   "metadata": {
    "id": "xmxaauVc4rUe"
   },
   "outputs": [
    {
     "data": {
      "application/vnd.jupyter.widget-view+json": {
       "model_id": "5e2d14b9cbd04f8aa818053399f50938",
       "version_major": 2,
       "version_minor": 0
      },
      "text/plain": [
       "HBox(children=(HTML(value=''), FloatProgress(value=1.0, bar_style='info', layout=Layout(width='20px'), max=1.0…"
      ]
     },
     "metadata": {},
     "output_type": "display_data"
    },
    {
     "name": "stdout",
     "output_type": "stream",
     "text": [
      "\n",
      "{'precision': 0.5142857142857142, 'recall': 1.0, 'f1': 0.6792452830188679}\n"
     ]
    }
   ],
   "source": [
    "movie_score = train_recommender(train_ratings, rating_weights, score_weights, 10, 20, movie_score)\n",
    "real, pred = predict_example(test_ratings, movie_score)\n",
    "print (get_metrics(real, pred))"
   ]
  },
  {
   "cell_type": "code",
   "execution_count": 14,
   "metadata": {
    "id": "k3xVQlr44rUe"
   },
   "outputs": [
    {
     "data": {
      "application/vnd.jupyter.widget-view+json": {
       "model_id": "54f1da8c030e45c9a5d9176baf6405a5",
       "version_major": 2,
       "version_minor": 0
      },
      "text/plain": [
       "HBox(children=(HTML(value=''), FloatProgress(value=1.0, bar_style='info', layout=Layout(width='20px'), max=1.0…"
      ]
     },
     "metadata": {},
     "output_type": "display_data"
    },
    {
     "name": "stdout",
     "output_type": "stream",
     "text": [
      "\n",
      "{'precision': 0.5142857142857142, 'recall': 1.0, 'f1': 0.6792452830188679}\n"
     ]
    }
   ],
   "source": [
    "movie_score = train_recommender(train_ratings, rating_weights, score_weights, 20, 30, movie_score)\n",
    "real, pred = predict_example(test_ratings, movie_score)\n",
    "print (get_metrics(real, pred))"
   ]
  },
  {
   "cell_type": "code",
   "execution_count": 15,
   "metadata": {
    "id": "xCNY4yFN4rUe"
   },
   "outputs": [
    {
     "data": {
      "application/vnd.jupyter.widget-view+json": {
       "model_id": "27765395379d40beafbc947600f37dfc",
       "version_major": 2,
       "version_minor": 0
      },
      "text/plain": [
       "HBox(children=(HTML(value=''), FloatProgress(value=1.0, bar_style='info', layout=Layout(width='20px'), max=1.0…"
      ]
     },
     "metadata": {},
     "output_type": "display_data"
    },
    {
     "name": "stdout",
     "output_type": "stream",
     "text": [
      "\n",
      "{'precision': 0.5106382978723404, 'recall': 1.0, 'f1': 0.676056338028169}\n"
     ]
    }
   ],
   "source": [
    "movie_score = train_recommender(train_ratings, rating_weights, score_weights, 30, 50, movie_score)\n",
    "real, pred = predict_example(test_ratings, movie_score)\n",
    "print (get_metrics(real, pred))"
   ]
  },
  {
   "cell_type": "code",
   "execution_count": null,
   "metadata": {
    "id": "E1Qh4bUp4rUe"
   },
   "outputs": [
    {
     "data": {
      "application/vnd.jupyter.widget-view+json": {
       "model_id": "406b82ec7ba042e1a6b9c03ceb2ffee5",
       "version_major": 2,
       "version_minor": 0
      },
      "text/plain": [
       "HBox(children=(HTML(value=''), FloatProgress(value=1.0, bar_style='info', layout=Layout(width='20px'), max=1.0…"
      ]
     },
     "metadata": {},
     "output_type": "display_data"
    }
   ],
   "source": [
    "movie_score = train_recommender(train_ratings, rating_weights, score_weights,start = 50, movie_score= movie_score)\n",
    "real, pred = predict_example(test_ratings, movie_score)\n",
    "print (get_metrics(real, pred))"
   ]
  }
 ],
 "metadata": {
  "colab": {
   "name": "2ο Θέμα.ipynb",
   "provenance": []
  },
  "kernelspec": {
   "display_name": "Python 3",
   "language": "python",
   "name": "python3"
  },
  "language_info": {
   "codemirror_mode": {
    "name": "ipython",
    "version": 3
   },
   "file_extension": ".py",
   "mimetype": "text/x-python",
   "name": "python",
   "nbconvert_exporter": "python",
   "pygments_lexer": "ipython3",
   "version": "3.8.5"
  }
 },
 "nbformat": 4,
 "nbformat_minor": 4
}
